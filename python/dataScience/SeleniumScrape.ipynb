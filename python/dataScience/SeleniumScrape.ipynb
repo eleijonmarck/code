{
 "cells": [
  {
   "cell_type": "code",
   "execution_count": null,
   "metadata": {
    "collapsed": true
   },
   "outputs": [],
   "source": []
  },
  {
   "cell_type": "code",
   "execution_count": 1,
   "metadata": {
    "collapsed": false
   },
   "outputs": [],
   "source": [
    "import urllib2\n",
    "import re\n",
    "import numpy as np\n",
    "import datetime\n",
    "import calendar\n",
    "#from functions import getDate\n",
    "from datetime import date\n",
    "\n",
    "\n",
    "# ------------------ test ----------------- #\n",
    "from dateutil.relativedelta import relativedelta\n",
    "from selenium import webdriver\n",
    "from selenium.webdriver.common.keys import Keys\n",
    "from selenium.webdriver.common.by import By\n",
    "from selenium.webdriver.support.ui import WebDriverWait\n",
    "from selenium.webdriver.support import expected_conditions as EC\n",
    "from selenium.webdriver import ActionChains\n",
    "import time\n",
    "#to open file in os and get directory\n",
    "import os\n",
    "\n",
    "\n",
    "import string\n",
    "svenska = string.ascii_uppercase\n",
    "svenska_alfabetet = []\n",
    "for c in svenska:\n",
    "    svenska_alfabetet.append(c)\n",
    "    \n",
    "svenska_alfabetet.append('%C3%84')\n",
    "svenska_alfabetet.append('%C3%85')\n",
    "svenska_alfabetet.append('%C3%96')\n",
    "\n"
   ]
  },
  {
   "cell_type": "code",
   "execution_count": 2,
   "metadata": {
    "collapsed": true
   },
   "outputs": [],
   "source": [
    "def howManyPages(string):\n",
    "    split = string.split()\n",
    "    return split[-1]"
   ]
  },
  {
   "cell_type": "markdown",
   "metadata": {},
   "source": [
    "## Webdriver"
   ]
  },
  {
   "cell_type": "code",
   "execution_count": null,
   "metadata": {
    "collapsed": false
   },
   "outputs": [
    {
     "name": "stdout",
     "output_type": "stream",
     "text": [
      "> <ipython-input-6-ddb2a9d6a3ac>(15)<module>()\n",
      "-> driver.quit()\n"
     ]
    }
   ],
   "source": [
    "# opens the webdriver\n",
    "driver = webdriver.Chrome()\n",
    "\n",
    "for letter in svenska_alfabetet:\n",
    "    html = \"http://www.foretagsfakta.se/foretag-ao/\"\n",
    "    driver.get(html + letter + \"/1\")\n",
    "    page_navigator_string = driver.find_element_by_xpath(\"//div[@class='PageNavigator-Pages']\").text\n",
    "    \n",
    "    pages = howManyPages(page_navigator_string)\n",
    "    \n",
    "    driver.quit()\n",
    "    for page in range(1,int(pages)):\n",
    "        driver.get(html + letter + \"/\" + str(page) + \"/\")\n",
    "        import pdb; pdb.set_trace()\n",
    "        \n",
    "        driver.quit()\n",
    "    \n",
    "    actions = ActionChains(driver)\n",
    "    wait = WebDriverWait(driver, 3)\n",
    "    \n",
    "    #actions.click(search_button)\n",
    "    actions.perform()\n",
    "\n",
    "\n"
   ]
  },
  {
   "cell_type": "code",
   "execution_count": null,
   "metadata": {
    "collapsed": false
   },
   "outputs": [],
   "source": [
    "svenska_alfabetet"
   ]
  },
  {
   "cell_type": "code",
   "execution_count": 4,
   "metadata": {
    "collapsed": false
   },
   "outputs": [
    {
     "data": {
      "text/plain": [
       "[2, 3, 4]"
      ]
     },
     "execution_count": 4,
     "metadata": {},
     "output_type": "execute_result"
    }
   ],
   "source": [
    "range(2,5)"
   ]
  },
  {
   "cell_type": "code",
   "execution_count": 10,
   "metadata": {
    "collapsed": false
   },
   "outputs": [],
   "source": [
    "url = \"http://www.foretagsfakta.se/foretag-ao/A/1\"\n",
    "bajs = R'curl -s ' + url + ' | sed -n \"/<div class=\\\"PageNavigator-Pages\\\">/,/</div>/p\"'"
   ]
  },
  {
   "cell_type": "code",
   "execution_count": 11,
   "metadata": {
    "collapsed": false
   },
   "outputs": [
    {
     "data": {
      "text/plain": [
       "'curl -s http://www.foretagsfakta.se/foretag-ao/A/1 | sed -n \"/<div class=\"PageNavigator-Pages\">/,/</div>/p\"'"
      ]
     },
     "execution_count": 11,
     "metadata": {},
     "output_type": "execute_result"
    }
   ],
   "source": [
    "bajs"
   ]
  },
  {
   "cell_type": "code",
   "execution_count": 12,
   "metadata": {
    "collapsed": false
   },
   "outputs": [
    {
     "ename": "SyntaxError",
     "evalue": "EOL while scanning string literal (<ipython-input-12-71c00013cece>, line 1)",
     "output_type": "error",
     "traceback": [
      "\u001b[0;36m  File \u001b[0;32m\"<ipython-input-12-71c00013cece>\"\u001b[0;36m, line \u001b[0;32m1\u001b[0m\n\u001b[0;31m    '            <div class=\"PageNavigator-Pages\">\\r\\n                \\r\\n                Sida\\r\\n                1\\r\\n                av\\r\\n                3227\\r\\n                \\r\\n            </d\u001b[0m\n\u001b[0m                                                                                                                                                                                                       ^\u001b[0m\n\u001b[0;31mSyntaxError\u001b[0m\u001b[0;31m:\u001b[0m EOL while scanning string literal\n"
     ]
    }
   ],
   "source": [
    "'            <div class=\"PageNavigator-Pages\">\\r\\n                \\r\\n                Sida\\r\\n                1\\r\\n                av\\r\\n                3227\\r\\n                \\r\\n            </d\n",
    "iv>\\r\\n            <div class=\"PageNavigator-Pages\">\\r\\n                \\r\\n                Sida\\r\\n                1\\r\\n                av\\r\\n                3227\\r\\n                \\r\\n\n",
    "   </div>\\r\\n'\n",
    "    \n",
    "    "
   ]
  },
  {
   "cell_type": "code",
   "execution_count": 14,
   "metadata": {
    "collapsed": false
   },
   "outputs": [],
   "source": [
    "bajs = '<div class=\"PageNavigator-Pages\">\\r\\n                \\r\\n                Sida\\r\\n                1\\r\\n                av\\r\\n                3227\\r\\n'"
   ]
  },
  {
   "cell_type": "code",
   "execution_count": 15,
   "metadata": {
    "collapsed": false
   },
   "outputs": [
    {
     "data": {
      "text/plain": [
       "[1, 3227]"
      ]
     },
     "execution_count": 15,
     "metadata": {},
     "output_type": "execute_result"
    }
   ],
   "source": [
    "[int(s) for s in bajs.split() if s.isdigit()]\n"
   ]
  },
  {
   "cell_type": "code",
   "execution_count": 23,
   "metadata": {
    "collapsed": false
   },
   "outputs": [],
   "source": [
    "all_companies_hrefs = {}\n",
    "all_companies_hrefs[\"A\"] = [\"href\"]"
   ]
  },
  {
   "cell_type": "code",
   "execution_count": 24,
   "metadata": {
    "collapsed": false
   },
   "outputs": [
    {
     "data": {
      "text/plain": [
       "['href']"
      ]
     },
     "execution_count": 24,
     "metadata": {},
     "output_type": "execute_result"
    }
   ],
   "source": [
    "all_companies_hrefs[\"A\"]"
   ]
  },
  {
   "cell_type": "code",
   "execution_count": null,
   "metadata": {
    "collapsed": true
   },
   "outputs": [],
   "source": []
  }
 ],
 "metadata": {
  "kernelspec": {
   "display_name": "Python 2",
   "language": "python",
   "name": "python2"
  },
  "language_info": {
   "codemirror_mode": {
    "name": "ipython",
    "version": 2
   },
   "file_extension": ".py",
   "mimetype": "text/x-python",
   "name": "python",
   "nbconvert_exporter": "python",
   "pygments_lexer": "ipython2",
   "version": "2.7.10"
  }
 },
 "nbformat": 4,
 "nbformat_minor": 0
}
